{
  "nbformat": 4,
  "nbformat_minor": 0,
  "metadata": {
    "colab": {
      "provenance": [],
      "authorship_tag": "ABX9TyP++LAU+I0WEUYApVOGcYRm",
      "include_colab_link": true
    },
    "kernelspec": {
      "name": "python3",
      "display_name": "Python 3"
    },
    "language_info": {
      "name": "python"
    }
  },
  "cells": [
    {
      "cell_type": "markdown",
      "metadata": {
        "id": "view-in-github",
        "colab_type": "text"
      },
      "source": [
        "<a href=\"https://colab.research.google.com/github/zugzwang03/Machine-Learning-Materials/blob/main/LeNet_5.ipynb\" target=\"_parent\"><img src=\"https://colab.research.google.com/assets/colab-badge.svg\" alt=\"Open In Colab\"/></a>"
      ]
    },
    {
      "cell_type": "code",
      "execution_count": 1,
      "metadata": {
        "colab": {
          "base_uri": "https://localhost:8080/"
        },
        "id": "45_9DpaqdO9p",
        "outputId": "0e05959b-d2eb-48fc-967f-78d6e626e0d7"
      },
      "outputs": [
        {
          "output_type": "stream",
          "name": "stdout",
          "text": [
            "LeNet5(\n",
            "  (conv1): Conv2d(1, 6, kernel_size=(5, 5), stride=(1, 1))\n",
            "  (pool): MaxPool2d(kernel_size=2, stride=2, padding=0, dilation=1, ceil_mode=False)\n",
            "  (conv2): Conv2d(6, 16, kernel_size=(5, 5), stride=(1, 1))\n",
            "  (fc1): Linear(in_features=400, out_features=120, bias=True)\n",
            "  (fc2): Linear(in_features=120, out_features=84, bias=True)\n",
            "  (fc3): Linear(in_features=84, out_features=10, bias=True)\n",
            ")\n"
          ]
        }
      ],
      "source": [
        "import torch\n",
        "from torchsummary import summary\n",
        "import torch.nn as nn\n",
        "import torch.nn.functional as F\n",
        "\n",
        "class LeNet5(nn.Module):\n",
        "\tdef __init__(self):\n",
        "\t\t# Call the parent class's init method\n",
        "\t\tsuper(LeNet5, self).__init__()\n",
        "\n",
        "\t\t# First Convolutional Layer\n",
        "\t\tself.conv1 = nn.Conv2d(in_channels=1, out_channels=6, kernel_size=5, stride=1)\n",
        "\n",
        "\t\t# Max Pooling Layer\n",
        "\t\tself.pool = nn.MaxPool2d(kernel_size=2, stride=2)\n",
        "\n",
        "\t\t# Second Convolutional Layer\n",
        "\t\tself.conv2 = nn.Conv2d(in_channels=6, out_channels=16, kernel_size=5, stride=1)\n",
        "\n",
        "\t\t# First Fully Connected Layer\n",
        "\t\tself.fc1 = nn.Linear(in_features=16 * 5 * 5, out_features=120)\n",
        "\n",
        "\t\t# Second Fully Connected Layer\n",
        "\t\tself.fc2 = nn.Linear(in_features=120, out_features=84)\n",
        "\n",
        "\t\t# Output Layer\n",
        "\t\tself.fc3 = nn.Linear(in_features=84, out_features=10)\n",
        "\n",
        "\tdef forward(self, x):\n",
        "\t\t# Pass the input through the first convolutional layer and activation function\n",
        "\t\tx = self.pool(F.relu(self.conv1(x)))\n",
        "\n",
        "\t\t# Pass the output of the first layer through\n",
        "\t\t# the second convolutional layer and activation function\n",
        "\t\tx = self.pool(F.relu(self.conv2(x)))\n",
        "\n",
        "\t\t# Reshape the output to be passed through the fully connected layers\n",
        "\t\tx = x.view(-1, 16 * 5 * 5)\n",
        "\n",
        "\t\t# Pass the output through the first fully connected layer and activation function\n",
        "\t\tx = F.relu(self.fc1(x))\n",
        "\n",
        "\t\t# Pass the output of the first fully connected layer through\n",
        "\t\t# the second fully connected layer and activation function\n",
        "\t\tx = F.relu(self.fc2(x))\n",
        "\n",
        "\t\t# Pass the output of the second fully connected layer through the output layer\n",
        "\t\tx = self.fc3(x)\n",
        "\n",
        "\t\t# Return the final output\n",
        "\t\treturn x\n",
        "\n",
        "lenet5 = LeNet5()\n",
        "print(lenet5)\n"
      ]
    },
    {
      "cell_type": "code",
      "source": [
        "# add the cuda to the mode\n",
        "device = torch.device(\"cuda\" if torch.cuda.is_available() else \"cpu\")\n",
        "lenet5.to(device)\n",
        "\n",
        "#Print the summary of the model\n",
        "summary(lenet5, (1, 32, 32))"
      ],
      "metadata": {
        "colab": {
          "base_uri": "https://localhost:8080/"
        },
        "id": "H4euTtzrdziE",
        "outputId": "4f63698f-8781-4777-bb2b-d3ed1ad28af6"
      },
      "execution_count": 2,
      "outputs": [
        {
          "output_type": "stream",
          "name": "stdout",
          "text": [
            "----------------------------------------------------------------\n",
            "        Layer (type)               Output Shape         Param #\n",
            "================================================================\n",
            "            Conv2d-1            [-1, 6, 28, 28]             156\n",
            "         MaxPool2d-2            [-1, 6, 14, 14]               0\n",
            "            Conv2d-3           [-1, 16, 10, 10]           2,416\n",
            "         MaxPool2d-4             [-1, 16, 5, 5]               0\n",
            "            Linear-5                  [-1, 120]          48,120\n",
            "            Linear-6                   [-1, 84]          10,164\n",
            "            Linear-7                   [-1, 10]             850\n",
            "================================================================\n",
            "Total params: 61,706\n",
            "Trainable params: 61,706\n",
            "Non-trainable params: 0\n",
            "----------------------------------------------------------------\n",
            "Input size (MB): 0.00\n",
            "Forward/backward pass size (MB): 0.06\n",
            "Params size (MB): 0.24\n",
            "Estimated Total Size (MB): 0.30\n",
            "----------------------------------------------------------------\n"
          ]
        }
      ]
    }
  ]
}