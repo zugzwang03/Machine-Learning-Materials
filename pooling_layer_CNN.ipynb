{
  "nbformat": 4,
  "nbformat_minor": 0,
  "metadata": {
    "colab": {
      "provenance": [],
      "authorship_tag": "ABX9TyOPCGw4PJT9gVh4l4nki/2c",
      "include_colab_link": true
    },
    "kernelspec": {
      "name": "python3",
      "display_name": "Python 3"
    },
    "language_info": {
      "name": "python"
    }
  },
  "cells": [
    {
      "cell_type": "markdown",
      "metadata": {
        "id": "view-in-github",
        "colab_type": "text"
      },
      "source": [
        "<a href=\"https://colab.research.google.com/github/zugzwang03/Machine-Learning-Materials/blob/main/pooling_layer_CNN.ipynb\" target=\"_parent\"><img src=\"https://colab.research.google.com/assets/colab-badge.svg\" alt=\"Open In Colab\"/></a>"
      ]
    },
    {
      "cell_type": "code",
      "execution_count": 6,
      "metadata": {
        "colab": {
          "base_uri": "https://localhost:8080/"
        },
        "id": "cDEhvMAiTRtC",
        "outputId": "de580c3d-cb0c-435f-a408-6f18e34d06ac"
      },
      "outputs": [
        {
          "output_type": "stream",
          "name": "stdout",
          "text": [
            "1/1 [==============================] - 0s 36ms/step\n",
            "[[9 7]\n",
            " [8 6]]\n"
          ]
        }
      ],
      "source": [
        "## Max Pooling\n",
        "\n",
        "import numpy as np\n",
        "from keras.models import Sequential\n",
        "from keras.layers import MaxPooling2D\n",
        "\n",
        "image = np.array([[2, 2, 7, 3],\n",
        "                  [9, 4, 6, 1],\n",
        "                  [8, 5, 2, 4],\n",
        "                  [3, 1, 2, 6]])\n",
        "image = image.reshape(1, 4, 4, 1)\n",
        "\n",
        "model = Sequential(\n",
        "    [MaxPooling2D(pool_size = 2, strides = 2)])\n",
        "\n",
        "output = model.predict(image)\n",
        "\n",
        "output = np.squeeze(output)\n",
        "print(output)"
      ]
    },
    {
      "cell_type": "code",
      "source": [
        "## Average Pooling\n",
        "import tensorflow as tf\n",
        "import numpy as np\n",
        "from keras.models import Sequential\n",
        "from keras.layers import AveragePooling2D\n",
        "\n",
        "image = np.array([[2, 2, 7, 3],\n",
        "                  [9, 4, 6, 1],\n",
        "                  [8, 5, 2, 4],\n",
        "                  [3, 1, 2, 6]])\n",
        "image = image.reshape(1, 4, 4, 1)\n",
        "image = tf.cast(image, tf.float32)\n",
        "# reshape(batch containing single image, row, column, no of channels)\n",
        "\n",
        "model = Sequential(\n",
        "    [AveragePooling2D(pool_size = 2, strides = 2)])\n",
        "\n",
        "output = model.predict(image)\n",
        "output = np.squeeze(output)\n",
        "\n",
        "print(output)"
      ],
      "metadata": {
        "colab": {
          "base_uri": "https://localhost:8080/"
        },
        "id": "dfSWl5DbUyQd",
        "outputId": "75ea23e5-9cec-4e58-c7d4-54ee91ad9ef9"
      },
      "execution_count": 15,
      "outputs": [
        {
          "output_type": "stream",
          "name": "stdout",
          "text": [
            "1/1 [==============================] - 0s 180ms/step\n",
            "[[4.25 4.25]\n",
            " [4.25 3.5 ]]\n"
          ]
        }
      ]
    },
    {
      "cell_type": "code",
      "source": [
        "import numpy as np\n",
        "from keras.models import Sequential\n",
        "from keras.layers import GlobalMaxPooling2D\n",
        "from keras.layers import GlobalAveragePooling2D\n",
        "\n",
        "# define input image\n",
        "image = np.array([[2, 2, 7, 3],\n",
        "\t\t\t\t[9, 4, 6, 1],\n",
        "\t\t\t\t[8, 5, 2, 4],\n",
        "\t\t\t\t[3, 1, 2, 6]])\n",
        "image = image.reshape(1, 4, 4, 1)\n",
        "\n",
        "# define gm_model containing just a single global-max pooling layer\n",
        "gm_model = Sequential(\n",
        "\t[GlobalMaxPooling2D()])\n",
        "\n",
        "# define ga_model containing just a single global-average pooling layer\n",
        "ga_model = Sequential(\n",
        "\t[GlobalAveragePooling2D()])\n",
        "\n",
        "# generate pooled output\n",
        "gm_output = gm_model.predict(image)\n",
        "ga_output = ga_model.predict(image)\n",
        "\n",
        "# print output image\n",
        "gm_output = np.squeeze(gm_output)\n",
        "ga_output = np.squeeze(ga_output)\n",
        "print(\"gm_output: \", gm_output)\n",
        "print(\"ga_output: \", ga_output)\n"
      ],
      "metadata": {
        "colab": {
          "base_uri": "https://localhost:8080/"
        },
        "id": "Sc0f0BFAW7M8",
        "outputId": "fa4d7a04-23fd-4352-e849-c9920543bc6b"
      },
      "execution_count": 17,
      "outputs": [
        {
          "output_type": "stream",
          "name": "stdout",
          "text": [
            "1/1 [==============================] - 0s 38ms/step\n",
            "1/1 [==============================] - 0s 39ms/step\n",
            "gm_output:  9\n",
            "ga_output:  4\n"
          ]
        }
      ]
    }
  ]
}