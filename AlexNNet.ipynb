{
  "nbformat": 4,
  "nbformat_minor": 0,
  "metadata": {
    "colab": {
      "provenance": [],
      "authorship_tag": "ABX9TyNPEfl9mhyUS9venYZ6ytdI",
      "include_colab_link": true
    },
    "kernelspec": {
      "name": "python3",
      "display_name": "Python 3"
    },
    "language_info": {
      "name": "python"
    }
  },
  "cells": [
    {
      "cell_type": "markdown",
      "metadata": {
        "id": "view-in-github",
        "colab_type": "text"
      },
      "source": [
        "<a href=\"https://colab.research.google.com/github/zugzwang03/Machine-Learning-Materials/blob/main/AlexNNet.ipynb\" target=\"_parent\"><img src=\"https://colab.research.google.com/assets/colab-badge.svg\" alt=\"Open In Colab\"/></a>"
      ]
    },
    {
      "cell_type": "code",
      "execution_count": 1,
      "metadata": {
        "colab": {
          "base_uri": "https://localhost:8080/"
        },
        "id": "Ji8hIsLXkZQX",
        "outputId": "4c35b37c-5b3d-4349-8e91-0b420a6d881a"
      },
      "outputs": [
        {
          "output_type": "stream",
          "name": "stdout",
          "text": [
            "AlexNet(\n",
            "  (conv1): Conv2d(3, 96, kernel_size=(11, 11), stride=(4, 4), padding=(2, 2))\n",
            "  (pool): MaxPool2d(kernel_size=3, stride=2, padding=0, dilation=1, ceil_mode=False)\n",
            "  (conv2): Conv2d(96, 256, kernel_size=(5, 5), stride=(1, 1), padding=(2, 2))\n",
            "  (conv3): Conv2d(256, 384, kernel_size=(3, 3), stride=(1, 1), padding=(1, 1))\n",
            "  (conv4): Conv2d(384, 384, kernel_size=(3, 3), stride=(1, 1), padding=(1, 1))\n",
            "  (conv5): Conv2d(384, 256, kernel_size=(3, 3), stride=(1, 1), padding=(1, 1))\n",
            "  (fc1): Linear(in_features=9216, out_features=4096, bias=True)\n",
            "  (fc2): Linear(in_features=4096, out_features=4096, bias=True)\n",
            "  (fc3): Linear(in_features=4096, out_features=1000, bias=True)\n",
            ")\n"
          ]
        }
      ],
      "source": [
        "import torch\n",
        "from torchsummary import summary\n",
        "import torch.nn as nn\n",
        "import torch.nn.functional as F\n",
        "\n",
        "class AlexNet(nn.Module):\n",
        "\tdef __init__(self, num_classes=1000):\n",
        "\t\t# Call the parent class's init method to initialize the base class\n",
        "\t\tsuper(AlexNet, self).__init__()\n",
        "\n",
        "\t\t# First Convolutional Layer with 11x11 filters, stride of 4, and 2 padding\n",
        "\t\tself.conv1 = nn.Conv2d(in_channels=3, out_channels=96, kernel_size=11, stride=4, padding=2)\n",
        "\n",
        "\t\t# Max Pooling Layer with a kernel size of 3 and stride of 2\n",
        "\t\tself.pool = nn.MaxPool2d(kernel_size=3, stride=2)\n",
        "\n",
        "\t\t# Second Convolutional Layer with 5x5 filters and 2 padding\n",
        "\t\tself.conv2 = nn.Conv2d(in_channels=96, out_channels=256, kernel_size=5, padding=2)\n",
        "\n",
        "\t\t# Third Convolutional Layer with 3x3 filters and 1 padding\n",
        "\t\tself.conv3 = nn.Conv2d(in_channels=256, out_channels=384, kernel_size=3, padding=1)\n",
        "\n",
        "\t\t# Fourth Convolutional Layer with 3x3 filters and 1 padding\n",
        "\t\tself.conv4 = nn.Conv2d(in_channels=384, out_channels=384, kernel_size=3, padding=1)\n",
        "\n",
        "\t\t# Fifth Convolutional Layer with 3x3 filters and 1 padding\n",
        "\t\tself.conv5 = nn.Conv2d(in_channels=384, out_channels=256, kernel_size=3, padding=1)\n",
        "\n",
        "\t\t# First Fully Connected Layer with 4096 output features\n",
        "\t\tself.fc1 = nn.Linear(in_features=256 * 6 * 6, out_features=4096)\n",
        "\n",
        "\t\t# Second Fully Connected Layer with 4096 output features\n",
        "\t\tself.fc2 = nn.Linear(in_features=4096, out_features=4096)\n",
        "\n",
        "\t\t# Output Layer with `num_classes` output features\n",
        "\t\tself.fc3 = nn.Linear(in_features=4096, out_features=num_classes)\n",
        "\n",
        "\tdef forward(self, x):\n",
        "\t\t# Pass the input through the first convolutional layer and ReLU activation function\n",
        "\t\tx = self.pool(F.relu(self.conv1(x)))\n",
        "\n",
        "\t\t# Pass the output of the first layer through\n",
        "\t\t# the second convolutional layer and ReLU activation function\n",
        "\t\tx = self.pool(F.relu(self.conv2(x)))\n",
        "\n",
        "\t\t# Pass the output of the second layer through\n",
        "\t\t# the third convolutional layer and ReLU activation function\n",
        "\t\tx = F.relu(self.conv3(x))\n",
        "\n",
        "\t\t# Pass the output of the third layer through\n",
        "\t\t# the fourth convolutional layer and ReLU activation function\n",
        "\t\tx = F.relu(self.conv4(x))\n",
        "\n",
        "\t\t# Pass the output of the fourth layer through\n",
        "\t\t# the fifth convolutional layer and ReLU activation function\n",
        "\t\tx = self.pool(F.relu(self.conv5(x)))\n",
        "\n",
        "\t\t# Reshape the output to be passed through the fully connected layers\n",
        "\t\tx = x.view(-1, 256 * 6 * 6)\n",
        "\n",
        "\t\t# Pass the output through the first fully connected layer and activation function\n",
        "\t\tx = F.relu(self.fc1(x))\n",
        "\t\tx = F.dropout(x, 0.5)\n",
        "\n",
        "\t\t# Pass the output of the first fully connected layer through\n",
        "\t\t# the second fully connected layer and activation function\n",
        "\t\tx = F.relu(self.fc2(x))\n",
        "\n",
        "\t\t# Pass the output of the second fully connected layer through the output layer\n",
        "\t\tx = self.fc3(x)\n",
        "\n",
        "\t\t# Return the final output\n",
        "\t\treturn x\n",
        "\n",
        "\n",
        "alexnet = AlexNet()\n",
        "print(alexnet)"
      ]
    },
    {
      "cell_type": "code",
      "source": [
        "# add the cuda to the mode\n",
        "device = torch.device(\"cuda\" if torch.cuda.is_available() else \"cpu\")\n",
        "alexnet.to(device)\n",
        "\n",
        "#Print the summary of the model\n",
        "summary(alexnet, (3, 224, 224))"
      ],
      "metadata": {
        "colab": {
          "base_uri": "https://localhost:8080/"
        },
        "id": "C8UTZpAaknpZ",
        "outputId": "b633e324-573a-437a-e646-1a67901fb1d3"
      },
      "execution_count": 2,
      "outputs": [
        {
          "output_type": "stream",
          "name": "stdout",
          "text": [
            "----------------------------------------------------------------\n",
            "        Layer (type)               Output Shape         Param #\n",
            "================================================================\n",
            "            Conv2d-1           [-1, 96, 55, 55]          34,944\n",
            "         MaxPool2d-2           [-1, 96, 27, 27]               0\n",
            "            Conv2d-3          [-1, 256, 27, 27]         614,656\n",
            "         MaxPool2d-4          [-1, 256, 13, 13]               0\n",
            "            Conv2d-5          [-1, 384, 13, 13]         885,120\n",
            "            Conv2d-6          [-1, 384, 13, 13]       1,327,488\n",
            "            Conv2d-7          [-1, 256, 13, 13]         884,992\n",
            "         MaxPool2d-8            [-1, 256, 6, 6]               0\n",
            "            Linear-9                 [-1, 4096]      37,752,832\n",
            "           Linear-10                 [-1, 4096]      16,781,312\n",
            "           Linear-11                 [-1, 1000]       4,097,000\n",
            "================================================================\n",
            "Total params: 62,378,344\n",
            "Trainable params: 62,378,344\n",
            "Non-trainable params: 0\n",
            "----------------------------------------------------------------\n",
            "Input size (MB): 0.57\n",
            "Forward/backward pass size (MB): 5.96\n",
            "Params size (MB): 237.95\n",
            "Estimated Total Size (MB): 244.49\n",
            "----------------------------------------------------------------\n"
          ]
        }
      ]
    }
  ]
}