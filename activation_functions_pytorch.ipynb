{
  "nbformat": 4,
  "nbformat_minor": 0,
  "metadata": {
    "colab": {
      "provenance": [],
      "authorship_tag": "ABX9TyP6bTzUI2Fbm8VTITr9ZmBY",
      "include_colab_link": true
    },
    "kernelspec": {
      "name": "python3",
      "display_name": "Python 3"
    },
    "language_info": {
      "name": "python"
    }
  },
  "cells": [
    {
      "cell_type": "markdown",
      "metadata": {
        "id": "view-in-github",
        "colab_type": "text"
      },
      "source": [
        "<a href=\"https://colab.research.google.com/github/zugzwang03/Machine-Learning-Materials/blob/main/activation_functions_pytorch.ipynb\" target=\"_parent\"><img src=\"https://colab.research.google.com/assets/colab-badge.svg\" alt=\"Open In Colab\"/></a>"
      ]
    },
    {
      "cell_type": "code",
      "execution_count": 3,
      "metadata": {
        "colab": {
          "base_uri": "https://localhost:8080/"
        },
        "id": "IIaA8r_qgX69",
        "outputId": "ca7ed0b9-8f03-4d42-b6b3-f7c2c35cbd11"
      },
      "outputs": [
        {
          "output_type": "stream",
          "name": "stdout",
          "text": [
            "tensor([1, 0, 0, 2])\n"
          ]
        }
      ],
      "source": [
        "# implementing rectified linear unit using Pytorch\n",
        "# rules are f(x) = x for x > 0;\n",
        "#           f(x) = 0 for x <= 0\n",
        "\n",
        "# f(x) = max(0, x)\n",
        "\n",
        "import torch\n",
        "import torch.nn as nn\n",
        "\n",
        "r = nn.ReLU()\n",
        "\n",
        "input = torch.tensor([1, 0, -1, 2])\n",
        "\n",
        "output = r(input)\n",
        "\n",
        "print(output)"
      ]
    },
    {
      "cell_type": "code",
      "source": [
        "# leaky ReLU\n",
        "# f(x) = max(0, x) + negative_slope * min(0, x)\n",
        "\n",
        "import torch\n",
        "import torch.nn as nn\n",
        "\n",
        "input = torch.Tensor([1, 2, -2, 0])\n",
        "lr = nn.LeakyReLU(0.2)\n",
        "output = lr(input)\n",
        "\n",
        "print(output)"
      ],
      "metadata": {
        "colab": {
          "base_uri": "https://localhost:8080/"
        },
        "id": "cAMa4zNWhYKU",
        "outputId": "74a8d1e7-37c6-4fb6-e0e5-682785c31441"
      },
      "execution_count": 6,
      "outputs": [
        {
          "output_type": "stream",
          "name": "stdout",
          "text": [
            "tensor([ 1.0000,  2.0000, -0.4000,  0.0000])\n"
          ]
        }
      ]
    },
    {
      "cell_type": "code",
      "source": [
        "# sigmoid function\n",
        "# f(x) = 1 / (1 + e^-x)\n",
        "# vanishing gradient\n",
        "# (0, 1)\n",
        "\n",
        "import torch\n",
        "import torch.nn as nn\n",
        "\n",
        "input = torch.Tensor([1, 9, -2, 5])\n",
        "s = nn.Sigmoid()\n",
        "output = s(input)\n",
        "\n",
        "print(output)"
      ],
      "metadata": {
        "colab": {
          "base_uri": "https://localhost:8080/"
        },
        "id": "gt77n4TQifYt",
        "outputId": "860c2df1-40b5-4ace-8d2b-cc43ce882423"
      },
      "execution_count": 10,
      "outputs": [
        {
          "output_type": "stream",
          "name": "stdout",
          "text": [
            "tensor([0.7311, 0.9999, 0.1192, 0.9933])\n"
          ]
        }
      ]
    },
    {
      "cell_type": "code",
      "source": [
        "# tanh\n",
        "# f(x) = (e^x - e^(-x)) / (e^x + e^(-x))\n",
        "# vanishing gradient\n",
        "# (-1, 1)\n",
        "# pass through 0 or origin but slow\n",
        "\n",
        "import torch\n",
        "import torch.nn as nn\n",
        "\n",
        "input = torch.Tensor([1, 0, -2, 9])\n",
        "t = nn.Tanh()\n",
        "output = t(input)\n",
        "\n",
        "print(output)"
      ],
      "metadata": {
        "colab": {
          "base_uri": "https://localhost:8080/"
        },
        "id": "G5rjOV6wjG9Y",
        "outputId": "f1a48707-6997-43f5-8c39-f910ad05b280"
      },
      "execution_count": 11,
      "outputs": [
        {
          "output_type": "stream",
          "name": "stdout",
          "text": [
            "tensor([ 0.7616,  0.0000, -0.9640,  1.0000])\n"
          ]
        }
      ]
    },
    {
      "cell_type": "code",
      "source": [
        "# softmax\n",
        "# f(x) = (e^x) / summation(e^x)\n",
        "# normalizing the output in probabilistic form\n",
        "# (0, 1)\n",
        "# sum = 1\n",
        "\n",
        "import torch\n",
        "import torch.nn as nn\n",
        "\n",
        "input = torch.Tensor([1, 0, -2, 9])\n",
        "sm = nn.Softmax(dim = 0)\n",
        "output = sm(input)\n",
        "\n",
        "print(output)"
      ],
      "metadata": {
        "colab": {
          "base_uri": "https://localhost:8080/"
        },
        "id": "qhqPhwKRjxKo",
        "outputId": "96b50020-ca4a-49f3-dce8-33856d1a5d48"
      },
      "execution_count": 12,
      "outputs": [
        {
          "output_type": "stream",
          "name": "stdout",
          "text": [
            "tensor([3.3530e-04, 1.2335e-04, 1.6694e-05, 9.9952e-01])\n"
          ]
        }
      ]
    }
  ]
}