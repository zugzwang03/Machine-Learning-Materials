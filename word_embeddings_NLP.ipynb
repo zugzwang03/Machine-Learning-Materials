{
  "nbformat": 4,
  "nbformat_minor": 0,
  "metadata": {
    "colab": {
      "provenance": [],
      "authorship_tag": "ABX9TyOZBsLas8yAi+84RnOw6/xO",
      "include_colab_link": true
    },
    "kernelspec": {
      "name": "python3",
      "display_name": "Python 3"
    },
    "language_info": {
      "name": "python"
    }
  },
  "cells": [
    {
      "cell_type": "markdown",
      "metadata": {
        "id": "view-in-github",
        "colab_type": "text"
      },
      "source": [
        "<a href=\"https://colab.research.google.com/github/zugzwang03/Machine-Learning-Materials/blob/main/word_embeddings_NLP.ipynb\" target=\"_parent\"><img src=\"https://colab.research.google.com/assets/colab-badge.svg\" alt=\"Open In Colab\"/></a>"
      ]
    },
    {
      "cell_type": "markdown",
      "source": [
        "# Traditional Methods:"
      ],
      "metadata": {
        "id": "k6UWEdWFTwST"
      }
    },
    {
      "cell_type": "markdown",
      "source": [
        "# One Hot Encoding"
      ],
      "metadata": {
        "id": "PHnHsQcyRGaR"
      }
    },
    {
      "cell_type": "code",
      "execution_count": null,
      "metadata": {
        "colab": {
          "base_uri": "https://localhost:8080/"
        },
        "id": "eafSJsmGPvvs",
        "outputId": "59404eae-0320-4f42-ebab-6c985ee8995f"
      },
      "outputs": [
        {
          "output_type": "stream",
          "name": "stdout",
          "text": [
            "Vocabulary: {'tree', 'hat', 'in', 'bird', 'mat', 'on', 'dog', 'cat', 'the'}\n",
            "Word to Index Mapping: {'tree': 0, 'hat': 1, 'in': 2, 'bird': 3, 'mat': 4, 'on': 5, 'dog': 6, 'cat': 7, 'the': 8}\n",
            "One-Hot Encoded Matrix:\n",
            "cat: [0, 0, 0, 0, 0, 0, 0, 1, 0]\n",
            "in: [0, 0, 1, 0, 0, 0, 0, 0, 0]\n",
            "the: [0, 0, 0, 0, 0, 0, 0, 0, 1]\n",
            "hat: [0, 1, 0, 0, 0, 0, 0, 0, 0]\n",
            "dog: [0, 0, 0, 0, 0, 0, 1, 0, 0]\n",
            "on: [0, 0, 0, 0, 0, 1, 0, 0, 0]\n",
            "the: [0, 0, 0, 0, 0, 0, 0, 0, 1]\n",
            "mat: [0, 0, 0, 0, 1, 0, 0, 0, 0]\n",
            "bird: [0, 0, 0, 1, 0, 0, 0, 0, 0]\n",
            "in: [0, 0, 1, 0, 0, 0, 0, 0, 0]\n",
            "the: [0, 0, 0, 0, 0, 0, 0, 0, 1]\n",
            "tree: [1, 0, 0, 0, 0, 0, 0, 0, 0]\n"
          ]
        }
      ],
      "source": [
        "def one_hot_encode(text):\n",
        "\twords = text.split()\n",
        "\tvocabulary = set(words)\n",
        "\tword_to_index = {word: i for i, word in enumerate(vocabulary)}\n",
        "\tone_hot_encoded = []\n",
        "\tfor word in words:\n",
        "\t\tone_hot_vector = [0] * len(vocabulary)\n",
        "\t\tone_hot_vector[word_to_index[word]] = 1\n",
        "\t\tone_hot_encoded.append(one_hot_vector)\n",
        "\n",
        "\treturn one_hot_encoded, word_to_index, vocabulary\n",
        "\n",
        "# sample\n",
        "example_text = \"cat in the hat dog on the mat bird in the tree\"\n",
        "\n",
        "one_hot_encoded, word_to_index, vocabulary = one_hot_encode(example_text)\n",
        "\n",
        "print(\"Vocabulary:\", vocabulary)\n",
        "print(\"Word to Index Mapping:\", word_to_index)\n",
        "print(\"One-Hot Encoded Matrix:\")\n",
        "for word, encoding in zip(example_text.split(), one_hot_encoded):\n",
        "\tprint(f\"{word}: {encoding}\")"
      ]
    },
    {
      "cell_type": "markdown",
      "source": [
        "# Bag of Words"
      ],
      "metadata": {
        "id": "Awd6sZSORJdF"
      }
    },
    {
      "cell_type": "code",
      "source": [
        "from sklearn.feature_extraction.text import CountVectorizer\n",
        "documents = [\"This is the first document.\",\n",
        "\t\t\t\"This document is the second document.\",\n",
        "\t\t\t\"And this is the third one.\",\n",
        "\t\t\t\"Is this the first document?\"]\n",
        "\n",
        "vectorizer = CountVectorizer()\n",
        "X = vectorizer.fit_transform(documents)\n",
        "feature_names = vectorizer.get_feature_names_out()\n",
        "\n",
        "print(\"Bag-of-Words Matrix:\")\n",
        "print(X.toarray())\n",
        "print(\"Vocabulary (Feature Names):\", feature_names)"
      ],
      "metadata": {
        "colab": {
          "base_uri": "https://localhost:8080/"
        },
        "id": "yB1-wSX8RKyB",
        "outputId": "b88e2bd8-0389-4e3b-99e2-0a7426f7f389"
      },
      "execution_count": null,
      "outputs": [
        {
          "output_type": "stream",
          "name": "stdout",
          "text": [
            "Bag-of-Words Matrix:\n",
            "[[0 1 1 1 0 0 1 0 1]\n",
            " [0 2 0 1 0 1 1 0 1]\n",
            " [1 0 0 1 1 0 1 1 1]\n",
            " [0 1 1 1 0 0 1 0 1]]\n",
            "Vocabulary (Feature Names): ['and' 'document' 'first' 'is' 'one' 'second' 'the' 'third' 'this']\n"
          ]
        }
      ]
    },
    {
      "cell_type": "markdown",
      "source": [
        "# TF-IDF (Term Frequency - Inverse Document Frequency)"
      ],
      "metadata": {
        "id": "sUJiKz06Sq73"
      }
    },
    {
      "cell_type": "code",
      "source": [
        "from sklearn.feature_extraction.text import TfidfVectorizer\n",
        "\n",
        "# Sample\n",
        "documents = [\n",
        "\t\"The quick brown fox jumps over the lazy dog.\",\n",
        "\t\"A journey of a thousand miles begins with a single step.\",\n",
        "]\n",
        "\n",
        "vectorizer = TfidfVectorizer() # Create the TF-IDF vectorizer\n",
        "tfidf_matrix = vectorizer.fit_transform(documents)\n",
        "feature_names = vectorizer.get_feature_names_out()\n",
        "tfidf_values = {}\n",
        "\n",
        "for doc_index, doc in enumerate(documents):\n",
        "\tfeature_index = tfidf_matrix[doc_index, :].nonzero()[1]\n",
        "\ttfidf_doc_values = zip(feature_index, [tfidf_matrix[doc_index, x] for x in feature_index])\n",
        "\ttfidf_values[doc_index] = {feature_names[i]: value for i, value in tfidf_doc_values}\n",
        "#let's print\n",
        "for doc_index, values in tfidf_values.items():\n",
        "\tprint(f\"Document {doc_index + 1}:\")\n",
        "\tfor word, tfidf_value in values.items():\n",
        "\t\tprint(f\"{word}: {tfidf_value}\")\n",
        "\tprint(\"\\n\")"
      ],
      "metadata": {
        "colab": {
          "base_uri": "https://localhost:8080/"
        },
        "id": "y0UNxZDKS1JE",
        "outputId": "3fe9ef94-66af-4029-b076-ef699ef6005d"
      },
      "execution_count": null,
      "outputs": [
        {
          "output_type": "stream",
          "name": "stdout",
          "text": [
            "Document 1:\n",
            "dog: 0.30151134457776363\n",
            "lazy: 0.30151134457776363\n",
            "over: 0.30151134457776363\n",
            "jumps: 0.30151134457776363\n",
            "fox: 0.30151134457776363\n",
            "brown: 0.30151134457776363\n",
            "quick: 0.30151134457776363\n",
            "the: 0.6030226891555273\n",
            "\n",
            "\n",
            "Document 2:\n",
            "step: 0.3535533905932738\n",
            "single: 0.3535533905932738\n",
            "with: 0.3535533905932738\n",
            "begins: 0.3535533905932738\n",
            "miles: 0.3535533905932738\n",
            "thousand: 0.3535533905932738\n",
            "of: 0.3535533905932738\n",
            "journey: 0.3535533905932738\n",
            "\n",
            "\n"
          ]
        }
      ]
    },
    {
      "cell_type": "markdown",
      "source": [
        "# Neural Approach:"
      ],
      "metadata": {
        "id": "kEr93N2EN5sz"
      }
    },
    {
      "cell_type": "markdown",
      "source": [
        "# Continuous Bag of Words (CBOW)"
      ],
      "metadata": {
        "id": "GgAS4lisN8jU"
      }
    },
    {
      "cell_type": "code",
      "source": [
        "import torch\n",
        "import torch.nn as nn\n",
        "import torch.optim as optim\n",
        "\n",
        "# Define CBOW model\n",
        "class CBOWModel(nn.Module):\n",
        "\tdef __init__(self, vocab_size, embed_size):\n",
        "\t\tsuper(CBOWModel, self).__init__()\n",
        "\t\tself.embeddings = nn.Embedding(vocab_size, embed_size)\n",
        "\t\tself.linear = nn.Linear(embed_size, vocab_size)\n",
        "\n",
        "\tdef forward(self, context):\n",
        "\t\tcontext_embeds = self.embeddings(context).sum(dim=1)\n",
        "\t\toutput = self.linear(context_embeds)\n",
        "\t\treturn output\n",
        "\n",
        "# Sample data\n",
        "context_size = 2\n",
        "raw_text = \"word embeddings are awesome\"\n",
        "tokens = raw_text.split()\n",
        "vocab = set(tokens)\n",
        "word_to_index = {word: i for i, word in enumerate(vocab)}\n",
        "data = []\n",
        "for i in range(2, len(tokens) - 2):\n",
        "\tcontext = [word_to_index[word] for word in tokens[i - 2:i] + tokens[i + 1:i + 3]]\n",
        "\ttarget = word_to_index[tokens[i]]\n",
        "\tdata.append((torch.tensor(context), torch.tensor(target)))\n",
        "\n",
        "# Hyperparameters\n",
        "vocab_size = len(vocab)\n",
        "embed_size = 10\n",
        "learning_rate = 0.01\n",
        "epochs = 100\n",
        "\n",
        "# Initialize CBOW model\n",
        "cbow_model = CBOWModel(vocab_size, embed_size)\n",
        "criterion = nn.CrossEntropyLoss()\n",
        "optimizer = optim.SGD(cbow_model.parameters(), lr=learning_rate)\n",
        "\n",
        "# Training loop\n",
        "for epoch in range(epochs):\n",
        "\ttotal_loss = 0\n",
        "\tfor context, target in data:\n",
        "\t\toptimizer.zero_grad()\n",
        "\t\toutput = cbow_model(context)\n",
        "\t\tloss = criterion(output.unsqueeze(0), target.unsqueeze(0))\n",
        "\t\tloss.backward()\n",
        "\t\toptimizer.step()\n",
        "\t\ttotal_loss += loss.item()\n",
        "\tprint(f\"Epoch {epoch + 1}, Loss: {total_loss}\")\n",
        "\n",
        "# Example usage: Get embedding for a specific word\n",
        "word_to_lookup = \"embeddings\"\n",
        "word_index = word_to_index[word_to_lookup]\n",
        "embedding = cbow_model.embeddings(torch.tensor([word_index]))\n",
        "print(f\"Embedding for '{word_to_lookup}': {embedding.detach().numpy()}\")"
      ],
      "metadata": {
        "colab": {
          "base_uri": "https://localhost:8080/"
        },
        "id": "Gz9VxaP7N4Sx",
        "outputId": "35ce0075-b695-4594-843e-ec26b1e6324e"
      },
      "execution_count": 1,
      "outputs": [
        {
          "output_type": "stream",
          "name": "stdout",
          "text": [
            "Epoch 1, Loss: 0\n",
            "Epoch 2, Loss: 0\n",
            "Epoch 3, Loss: 0\n",
            "Epoch 4, Loss: 0\n",
            "Epoch 5, Loss: 0\n",
            "Epoch 6, Loss: 0\n",
            "Epoch 7, Loss: 0\n",
            "Epoch 8, Loss: 0\n",
            "Epoch 9, Loss: 0\n",
            "Epoch 10, Loss: 0\n",
            "Epoch 11, Loss: 0\n",
            "Epoch 12, Loss: 0\n",
            "Epoch 13, Loss: 0\n",
            "Epoch 14, Loss: 0\n",
            "Epoch 15, Loss: 0\n",
            "Epoch 16, Loss: 0\n",
            "Epoch 17, Loss: 0\n",
            "Epoch 18, Loss: 0\n",
            "Epoch 19, Loss: 0\n",
            "Epoch 20, Loss: 0\n",
            "Epoch 21, Loss: 0\n",
            "Epoch 22, Loss: 0\n",
            "Epoch 23, Loss: 0\n",
            "Epoch 24, Loss: 0\n",
            "Epoch 25, Loss: 0\n",
            "Epoch 26, Loss: 0\n",
            "Epoch 27, Loss: 0\n",
            "Epoch 28, Loss: 0\n",
            "Epoch 29, Loss: 0\n",
            "Epoch 30, Loss: 0\n",
            "Epoch 31, Loss: 0\n",
            "Epoch 32, Loss: 0\n",
            "Epoch 33, Loss: 0\n",
            "Epoch 34, Loss: 0\n",
            "Epoch 35, Loss: 0\n",
            "Epoch 36, Loss: 0\n",
            "Epoch 37, Loss: 0\n",
            "Epoch 38, Loss: 0\n",
            "Epoch 39, Loss: 0\n",
            "Epoch 40, Loss: 0\n",
            "Epoch 41, Loss: 0\n",
            "Epoch 42, Loss: 0\n",
            "Epoch 43, Loss: 0\n",
            "Epoch 44, Loss: 0\n",
            "Epoch 45, Loss: 0\n",
            "Epoch 46, Loss: 0\n",
            "Epoch 47, Loss: 0\n",
            "Epoch 48, Loss: 0\n",
            "Epoch 49, Loss: 0\n",
            "Epoch 50, Loss: 0\n",
            "Epoch 51, Loss: 0\n",
            "Epoch 52, Loss: 0\n",
            "Epoch 53, Loss: 0\n",
            "Epoch 54, Loss: 0\n",
            "Epoch 55, Loss: 0\n",
            "Epoch 56, Loss: 0\n",
            "Epoch 57, Loss: 0\n",
            "Epoch 58, Loss: 0\n",
            "Epoch 59, Loss: 0\n",
            "Epoch 60, Loss: 0\n",
            "Epoch 61, Loss: 0\n",
            "Epoch 62, Loss: 0\n",
            "Epoch 63, Loss: 0\n",
            "Epoch 64, Loss: 0\n",
            "Epoch 65, Loss: 0\n",
            "Epoch 66, Loss: 0\n",
            "Epoch 67, Loss: 0\n",
            "Epoch 68, Loss: 0\n",
            "Epoch 69, Loss: 0\n",
            "Epoch 70, Loss: 0\n",
            "Epoch 71, Loss: 0\n",
            "Epoch 72, Loss: 0\n",
            "Epoch 73, Loss: 0\n",
            "Epoch 74, Loss: 0\n",
            "Epoch 75, Loss: 0\n",
            "Epoch 76, Loss: 0\n",
            "Epoch 77, Loss: 0\n",
            "Epoch 78, Loss: 0\n",
            "Epoch 79, Loss: 0\n",
            "Epoch 80, Loss: 0\n",
            "Epoch 81, Loss: 0\n",
            "Epoch 82, Loss: 0\n",
            "Epoch 83, Loss: 0\n",
            "Epoch 84, Loss: 0\n",
            "Epoch 85, Loss: 0\n",
            "Epoch 86, Loss: 0\n",
            "Epoch 87, Loss: 0\n",
            "Epoch 88, Loss: 0\n",
            "Epoch 89, Loss: 0\n",
            "Epoch 90, Loss: 0\n",
            "Epoch 91, Loss: 0\n",
            "Epoch 92, Loss: 0\n",
            "Epoch 93, Loss: 0\n",
            "Epoch 94, Loss: 0\n",
            "Epoch 95, Loss: 0\n",
            "Epoch 96, Loss: 0\n",
            "Epoch 97, Loss: 0\n",
            "Epoch 98, Loss: 0\n",
            "Epoch 99, Loss: 0\n",
            "Epoch 100, Loss: 0\n",
            "Embedding for 'embeddings': [[-1.2438215  -1.241       0.3443924  -2.3006487   1.690075   -0.256473\n",
            "   0.4774831  -0.9340563   0.6638711   0.19753888]]\n"
          ]
        }
      ]
    },
    {
      "cell_type": "markdown",
      "source": [
        "# Skip-gram"
      ],
      "metadata": {
        "id": "tR1CCROiPsUc"
      }
    },
    {
      "cell_type": "code",
      "source": [
        "!pip install gensim\n",
        "from gensim.models import Word2Vec\n",
        "from nltk.tokenize import word_tokenize\n",
        "import nltk\n",
        "nltk.download('punkt') # Download the tokenizer models if not already downloaded\n",
        "\n",
        "sample = \"Word embeddings are dense vector representations of words.\"\n",
        "tokenized_corpus = word_tokenize(sample.lower()) # Lowercasing for consistency\n",
        "\n",
        "skipgram_model = Word2Vec(sentences=[tokenized_corpus],\n",
        "\t\t\t\t\t\tvector_size=100, # Dimensionality of the word vectors\n",
        "\t\t\t\t\t\twindow=5,\t\t # Maximum distance between the current and predicted word within a sentence\n",
        "\t\t\t\t\t\tsg=1,\t\t\t # Skip-Gram model (1 for Skip-Gram, 0 for CBOW)\n",
        "\t\t\t\t\t\tmin_count=1,\t # Ignores all words with a total frequency lower than this\n",
        "\t\t\t\t\t\tworkers=4)\t # Number of CPU cores to use for training the model\n",
        "\n",
        "# Training\n",
        "skipgram_model.train([tokenized_corpus], total_examples=1, epochs=10)\n",
        "skipgram_model.save(\"skipgram_model.model\")\n",
        "loaded_model = Word2Vec.load(\"skipgram_model.model\")\n",
        "vector_representation = loaded_model.wv['word']\n",
        "print(\"Vector representation of 'word':\", vector_representation)\n"
      ],
      "metadata": {
        "colab": {
          "base_uri": "https://localhost:8080/"
        },
        "id": "5gGRY0LqPtbg",
        "outputId": "e4717b3c-f2fc-4e94-aa21-245fc193e537"
      },
      "execution_count": 2,
      "outputs": [
        {
          "output_type": "stream",
          "name": "stdout",
          "text": [
            "Requirement already satisfied: gensim in /usr/local/lib/python3.10/dist-packages (4.3.2)\n",
            "Requirement already satisfied: numpy>=1.18.5 in /usr/local/lib/python3.10/dist-packages (from gensim) (1.25.2)\n",
            "Requirement already satisfied: scipy>=1.7.0 in /usr/local/lib/python3.10/dist-packages (from gensim) (1.11.4)\n",
            "Requirement already satisfied: smart-open>=1.8.1 in /usr/local/lib/python3.10/dist-packages (from gensim) (6.4.0)\n"
          ]
        },
        {
          "output_type": "stream",
          "name": "stderr",
          "text": [
            "[nltk_data] Downloading package punkt to /root/nltk_data...\n",
            "[nltk_data]   Unzipping tokenizers/punkt.zip.\n",
            "WARNING:gensim.models.word2vec:Effective 'alpha' higher than previous training cycles\n"
          ]
        },
        {
          "output_type": "stream",
          "name": "stdout",
          "text": [
            "Vector representation of 'word': [-9.5800208e-03  8.9437785e-03  4.1664648e-03  9.2367809e-03\n",
            "  6.6457358e-03  2.9233587e-03  9.8055992e-03 -4.4231843e-03\n",
            " -6.8048164e-03  4.2256550e-03  3.7299085e-03 -5.6668529e-03\n",
            "  9.7035142e-03 -3.5551414e-03  9.5499391e-03  8.3657773e-04\n",
            " -6.3355025e-03 -1.9741615e-03 -7.3781307e-03 -2.9811086e-03\n",
            "  1.0425397e-03  9.4814906e-03  9.3598543e-03 -6.5986011e-03\n",
            "  3.4773252e-03  2.2767992e-03 -2.4910474e-03 -9.2290826e-03\n",
            "  1.0267317e-03 -8.1645092e-03  6.3240929e-03 -5.8001447e-03\n",
            "  5.5353874e-03  9.8330071e-03 -1.5987856e-04  4.5296676e-03\n",
            " -1.8086446e-03  7.3613892e-03  3.9419360e-03 -9.0095028e-03\n",
            " -2.3953868e-03  3.6261671e-03 -1.0080514e-04 -1.2024897e-03\n",
            " -1.0558038e-03 -1.6681013e-03  6.0541567e-04  4.1633579e-03\n",
            " -4.2531900e-03 -3.8336846e-03 -5.0755290e-05  2.6549282e-04\n",
            " -1.7014991e-04 -4.7843382e-03  4.3120929e-03 -2.1710952e-03\n",
            "  2.1056964e-03  6.6702347e-04  5.9686624e-03 -6.8418151e-03\n",
            " -6.8183104e-03 -4.4762432e-03  9.4359247e-03 -1.5930856e-03\n",
            " -9.4291316e-03 -5.4270827e-04 -4.4478951e-03  5.9980620e-03\n",
            " -9.5831212e-03  2.8602476e-03 -9.2544509e-03  1.2484600e-03\n",
            "  6.0004774e-03  7.4001122e-03 -7.6209377e-03 -6.0561695e-03\n",
            " -6.8399287e-03 -7.9184016e-03 -9.4984965e-03 -2.1255787e-03\n",
            " -8.3757477e-04 -7.2564054e-03  6.7876028e-03  1.1183097e-03\n",
            "  5.8291717e-03  1.4714618e-03  7.9081533e-04 -7.3718326e-03\n",
            " -2.1769912e-03  4.3199472e-03 -5.0856168e-03  1.1304744e-03\n",
            "  2.8835384e-03 -1.5386029e-03  9.9318363e-03  8.3507905e-03\n",
            "  2.4184163e-03  7.1170190e-03  5.8888551e-03 -5.5787875e-03]\n"
          ]
        }
      ]
    },
    {
      "cell_type": "markdown",
      "source": [
        "# Pretrained Word-Embedding:"
      ],
      "metadata": {
        "id": "RRR2bsVHQZv4"
      }
    },
    {
      "cell_type": "markdown",
      "source": [
        "# GloVe"
      ],
      "metadata": {
        "id": "LHFbgDk4QghV"
      }
    },
    {
      "cell_type": "code",
      "source": [
        "from gensim.models import KeyedVectors\n",
        "from gensim.downloader import load\n",
        "\n",
        "glove_model = load('glove-wiki-gigaword-50')\n",
        "word_pairs = [('learn', 'learning'), ('india', 'indian'), ('fame', 'famous')]\n",
        "\n",
        "# Compute similarity for each pair of words\n",
        "for pair in word_pairs:\n",
        "\tsimilarity = glove_model.similarity(pair[0], pair[1])\n",
        "\tprint(f\"Similarity between '{pair[0]}' and '{pair[1]}' using GloVe: {similarity:.3f}\")"
      ],
      "metadata": {
        "colab": {
          "base_uri": "https://localhost:8080/"
        },
        "id": "HVIFp2SPQj8x",
        "outputId": "abe7dda8-e6cf-4112-fdc0-e0b59c063853"
      },
      "execution_count": 3,
      "outputs": [
        {
          "output_type": "stream",
          "name": "stdout",
          "text": [
            "[==================================================] 100.0% 66.0/66.0MB downloaded\n",
            "Similarity between 'learn' and 'learning' using GloVe: 0.802\n",
            "Similarity between 'india' and 'indian' using GloVe: 0.865\n",
            "Similarity between 'fame' and 'famous' using GloVe: 0.589\n"
          ]
        }
      ]
    },
    {
      "cell_type": "markdown",
      "source": [
        "# Fasttext"
      ],
      "metadata": {
        "id": "UHeIelv5Qvj_"
      }
    },
    {
      "cell_type": "code",
      "source": [
        "import gensim.downloader as api\n",
        "fasttext_model = api.load(\"fasttext-wiki-news-subwords-300\") ## Load the pre-trained fastText model\n",
        "# Define word pairs to compute similarity for\n",
        "word_pairs = [('learn', 'learning'), ('india', 'indian'), ('fame', 'famous')]\n",
        "\n",
        "# Compute similarity for each pair of words\n",
        "for pair in word_pairs:\n",
        "\tsimilarity = fasttext_model.similarity(pair[0], pair[1])\n",
        "\tprint(f\"Similarity between '{pair[0]}' and '{pair[1]}' using FastText: {similarity:.3f}\")"
      ],
      "metadata": {
        "colab": {
          "base_uri": "https://localhost:8080/"
        },
        "id": "tWiNjkHHQxeZ",
        "outputId": "cd086d32-5b8a-4524-ca44-0881a35ac03e"
      },
      "execution_count": null,
      "outputs": [
        {
          "output_type": "stream",
          "name": "stdout",
          "text": [
            "[===========================-----------------------] 54.4% 521.1/958.4MB downloaded"
          ]
        }
      ]
    },
    {
      "cell_type": "markdown",
      "source": [
        "# BERT (Bidirectional Encoder Representations from Transformers)"
      ],
      "metadata": {
        "id": "nvGC4KxZQ7cp"
      }
    },
    {
      "cell_type": "code",
      "source": [
        "from transformers import BertTokenizer, BertModel\n",
        "import torch\n",
        "\n",
        "# Load pre-trained BERT model and tokenizer\n",
        "model_name = 'bert-base-uncased'\n",
        "tokenizer = BertTokenizer.from_pretrained(model_name)\n",
        "model = BertModel.from_pretrained(model_name)\n",
        "\n",
        "word_pairs = [('learn', 'learning'), ('india', 'indian'), ('fame', 'famous')]\n",
        "\n",
        "# Compute similarity for each pair of words\n",
        "for pair in word_pairs:\n",
        "\ttokens = tokenizer(pair, return_tensors='pt')\n",
        "\twith torch.no_grad():\n",
        "\t\toutputs = model(**tokens)\n",
        "\n",
        "\t# Extract embeddings for the [CLS] token\n",
        "\tcls_embedding = outputs.last_hidden_state[:, 0, :]\n",
        "\n",
        "\tsimilarity = torch.nn.functional.cosine_similarity(cls_embedding[0], cls_embedding[1], dim=0)\n",
        "\n",
        "\tprint(f\"Similarity between '{pair[0]}' and '{pair[1]}' using BERT: {similarity:.3f}\")"
      ],
      "metadata": {
        "id": "REUenbn3Q7oZ"
      },
      "execution_count": null,
      "outputs": []
    }
  ]
}