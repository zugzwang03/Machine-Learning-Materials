{
  "nbformat": 4,
  "nbformat_minor": 0,
  "metadata": {
    "colab": {
      "provenance": [],
      "authorship_tag": "ABX9TyOlAuBFSU3E8M4FIpY8E+ey",
      "include_colab_link": true
    },
    "kernelspec": {
      "name": "python3",
      "display_name": "Python 3"
    },
    "language_info": {
      "name": "python"
    }
  },
  "cells": [
    {
      "cell_type": "markdown",
      "metadata": {
        "id": "view-in-github",
        "colab_type": "text"
      },
      "source": [
        "<a href=\"https://colab.research.google.com/github/zugzwang03/Machine-Learning-Materials/blob/main/word_embeddings_NLP.ipynb\" target=\"_parent\"><img src=\"https://colab.research.google.com/assets/colab-badge.svg\" alt=\"Open In Colab\"/></a>"
      ]
    },
    {
      "cell_type": "markdown",
      "source": [
        "# Traditional Methods:"
      ],
      "metadata": {
        "id": "k6UWEdWFTwST"
      }
    },
    {
      "cell_type": "markdown",
      "source": [
        "# One Hot Encoding"
      ],
      "metadata": {
        "id": "PHnHsQcyRGaR"
      }
    },
    {
      "cell_type": "code",
      "execution_count": 3,
      "metadata": {
        "colab": {
          "base_uri": "https://localhost:8080/"
        },
        "id": "eafSJsmGPvvs",
        "outputId": "59404eae-0320-4f42-ebab-6c985ee8995f"
      },
      "outputs": [
        {
          "output_type": "stream",
          "name": "stdout",
          "text": [
            "Vocabulary: {'tree', 'hat', 'in', 'bird', 'mat', 'on', 'dog', 'cat', 'the'}\n",
            "Word to Index Mapping: {'tree': 0, 'hat': 1, 'in': 2, 'bird': 3, 'mat': 4, 'on': 5, 'dog': 6, 'cat': 7, 'the': 8}\n",
            "One-Hot Encoded Matrix:\n",
            "cat: [0, 0, 0, 0, 0, 0, 0, 1, 0]\n",
            "in: [0, 0, 1, 0, 0, 0, 0, 0, 0]\n",
            "the: [0, 0, 0, 0, 0, 0, 0, 0, 1]\n",
            "hat: [0, 1, 0, 0, 0, 0, 0, 0, 0]\n",
            "dog: [0, 0, 0, 0, 0, 0, 1, 0, 0]\n",
            "on: [0, 0, 0, 0, 0, 1, 0, 0, 0]\n",
            "the: [0, 0, 0, 0, 0, 0, 0, 0, 1]\n",
            "mat: [0, 0, 0, 0, 1, 0, 0, 0, 0]\n",
            "bird: [0, 0, 0, 1, 0, 0, 0, 0, 0]\n",
            "in: [0, 0, 1, 0, 0, 0, 0, 0, 0]\n",
            "the: [0, 0, 0, 0, 0, 0, 0, 0, 1]\n",
            "tree: [1, 0, 0, 0, 0, 0, 0, 0, 0]\n"
          ]
        }
      ],
      "source": [
        "def one_hot_encode(text):\n",
        "\twords = text.split()\n",
        "\tvocabulary = set(words)\n",
        "\tword_to_index = {word: i for i, word in enumerate(vocabulary)}\n",
        "\tone_hot_encoded = []\n",
        "\tfor word in words:\n",
        "\t\tone_hot_vector = [0] * len(vocabulary)\n",
        "\t\tone_hot_vector[word_to_index[word]] = 1\n",
        "\t\tone_hot_encoded.append(one_hot_vector)\n",
        "\n",
        "\treturn one_hot_encoded, word_to_index, vocabulary\n",
        "\n",
        "# sample\n",
        "example_text = \"cat in the hat dog on the mat bird in the tree\"\n",
        "\n",
        "one_hot_encoded, word_to_index, vocabulary = one_hot_encode(example_text)\n",
        "\n",
        "print(\"Vocabulary:\", vocabulary)\n",
        "print(\"Word to Index Mapping:\", word_to_index)\n",
        "print(\"One-Hot Encoded Matrix:\")\n",
        "for word, encoding in zip(example_text.split(), one_hot_encoded):\n",
        "\tprint(f\"{word}: {encoding}\")"
      ]
    },
    {
      "cell_type": "markdown",
      "source": [
        "# Bag of Words"
      ],
      "metadata": {
        "id": "Awd6sZSORJdF"
      }
    },
    {
      "cell_type": "code",
      "source": [
        "from sklearn.feature_extraction.text import CountVectorizer\n",
        "documents = [\"This is the first document.\",\n",
        "\t\t\t\"This document is the second document.\",\n",
        "\t\t\t\"And this is the third one.\",\n",
        "\t\t\t\"Is this the first document?\"]\n",
        "\n",
        "vectorizer = CountVectorizer()\n",
        "X = vectorizer.fit_transform(documents)\n",
        "feature_names = vectorizer.get_feature_names_out()\n",
        "\n",
        "print(\"Bag-of-Words Matrix:\")\n",
        "print(X.toarray())\n",
        "print(\"Vocabulary (Feature Names):\", feature_names)"
      ],
      "metadata": {
        "colab": {
          "base_uri": "https://localhost:8080/"
        },
        "id": "yB1-wSX8RKyB",
        "outputId": "b88e2bd8-0389-4e3b-99e2-0a7426f7f389"
      },
      "execution_count": 4,
      "outputs": [
        {
          "output_type": "stream",
          "name": "stdout",
          "text": [
            "Bag-of-Words Matrix:\n",
            "[[0 1 1 1 0 0 1 0 1]\n",
            " [0 2 0 1 0 1 1 0 1]\n",
            " [1 0 0 1 1 0 1 1 1]\n",
            " [0 1 1 1 0 0 1 0 1]]\n",
            "Vocabulary (Feature Names): ['and' 'document' 'first' 'is' 'one' 'second' 'the' 'third' 'this']\n"
          ]
        }
      ]
    },
    {
      "cell_type": "markdown",
      "source": [
        "# TF-IDF (Term Frequency - Inverse Document Frequency)"
      ],
      "metadata": {
        "id": "sUJiKz06Sq73"
      }
    },
    {
      "cell_type": "code",
      "source": [
        "from sklearn.feature_extraction.text import TfidfVectorizer\n",
        "\n",
        "# Sample\n",
        "documents = [\n",
        "\t\"The quick brown fox jumps over the lazy dog.\",\n",
        "\t\"A journey of a thousand miles begins with a single step.\",\n",
        "]\n",
        "\n",
        "vectorizer = TfidfVectorizer() # Create the TF-IDF vectorizer\n",
        "tfidf_matrix = vectorizer.fit_transform(documents)\n",
        "feature_names = vectorizer.get_feature_names_out()\n",
        "tfidf_values = {}\n",
        "\n",
        "for doc_index, doc in enumerate(documents):\n",
        "\tfeature_index = tfidf_matrix[doc_index, :].nonzero()[1]\n",
        "\ttfidf_doc_values = zip(feature_index, [tfidf_matrix[doc_index, x] for x in feature_index])\n",
        "\ttfidf_values[doc_index] = {feature_names[i]: value for i, value in tfidf_doc_values}\n",
        "#let's print\n",
        "for doc_index, values in tfidf_values.items():\n",
        "\tprint(f\"Document {doc_index + 1}:\")\n",
        "\tfor word, tfidf_value in values.items():\n",
        "\t\tprint(f\"{word}: {tfidf_value}\")\n",
        "\tprint(\"\\n\")"
      ],
      "metadata": {
        "colab": {
          "base_uri": "https://localhost:8080/"
        },
        "id": "y0UNxZDKS1JE",
        "outputId": "3fe9ef94-66af-4029-b076-ef699ef6005d"
      },
      "execution_count": 7,
      "outputs": [
        {
          "output_type": "stream",
          "name": "stdout",
          "text": [
            "Document 1:\n",
            "dog: 0.30151134457776363\n",
            "lazy: 0.30151134457776363\n",
            "over: 0.30151134457776363\n",
            "jumps: 0.30151134457776363\n",
            "fox: 0.30151134457776363\n",
            "brown: 0.30151134457776363\n",
            "quick: 0.30151134457776363\n",
            "the: 0.6030226891555273\n",
            "\n",
            "\n",
            "Document 2:\n",
            "step: 0.3535533905932738\n",
            "single: 0.3535533905932738\n",
            "with: 0.3535533905932738\n",
            "begins: 0.3535533905932738\n",
            "miles: 0.3535533905932738\n",
            "thousand: 0.3535533905932738\n",
            "of: 0.3535533905932738\n",
            "journey: 0.3535533905932738\n",
            "\n",
            "\n"
          ]
        }
      ]
    }
  ]
}