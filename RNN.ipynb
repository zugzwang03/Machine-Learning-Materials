{
  "nbformat": 4,
  "nbformat_minor": 0,
  "metadata": {
    "colab": {
      "provenance": [],
      "authorship_tag": "ABX9TyOd9c9r34nN76bnlq9LdN+q",
      "include_colab_link": true
    },
    "kernelspec": {
      "name": "python3",
      "display_name": "Python 3"
    },
    "language_info": {
      "name": "python"
    }
  },
  "cells": [
    {
      "cell_type": "markdown",
      "metadata": {
        "id": "view-in-github",
        "colab_type": "text"
      },
      "source": [
        "<a href=\"https://colab.research.google.com/github/zugzwang03/Machine-Learning-Materials/blob/main/RNN.ipynb\" target=\"_parent\"><img src=\"https://colab.research.google.com/assets/colab-badge.svg\" alt=\"Open In Colab\"/></a>"
      ]
    },
    {
      "cell_type": "code",
      "execution_count": 1,
      "metadata": {
        "id": "Pl6HHinWVbUV"
      },
      "outputs": [],
      "source": [
        "import numpy as np\n",
        "import tensorflow as tf\n",
        "from tensorflow.keras.models import Sequential\n",
        "from tensorflow.keras.layers import SimpleRNN, Dense"
      ]
    },
    {
      "cell_type": "code",
      "source": [
        "text = \"This is GeeksforGeeks a software training institute\"\n",
        "chars = sorted(list(set(text)))\n",
        "char_to_index = {char: i for i, char in enumerate(chars)}\n",
        "index_to_char = {i: char for i, char in enumerate(chars)}"
      ],
      "metadata": {
        "id": "DaTI29s3VoHI"
      },
      "execution_count": 2,
      "outputs": []
    },
    {
      "cell_type": "code",
      "source": [
        "seq_length = 3\n",
        "sequences = []\n",
        "labels = []\n",
        "\n",
        "for i in range(len(text) - seq_length):\n",
        "\tseq = text[i:i+seq_length]\n",
        "\tlabel = text[i+seq_length]\n",
        "\tsequences.append([char_to_index[char] for char in seq])\n",
        "\tlabels.append(char_to_index[label])"
      ],
      "metadata": {
        "colab": {
          "base_uri": "https://localhost:8080/"
        },
        "id": "8JChmdmHVsdn",
        "outputId": "3cf4e5e7-6c98-42c9-f2d9-6693900a3872"
      },
      "execution_count": 5,
      "outputs": [
        {
          "output_type": "stream",
          "name": "stdout",
          "text": [
            "[[2, 7, 8], [7, 8, 13], [8, 13, 0], [13, 0, 8], [0, 8, 13], [8, 13, 0], [13, 0, 1], [0, 1, 4], [1, 4, 4], [4, 4, 9], [4, 9, 13], [9, 13, 5], [13, 5, 11], [5, 11, 12], [11, 12, 1], [12, 1, 4], [1, 4, 4], [4, 4, 9], [4, 9, 13], [9, 13, 0], [13, 0, 3], [0, 3, 0], [3, 0, 13], [0, 13, 11], [13, 11, 5], [11, 5, 14], [5, 14, 16], [14, 16, 3], [16, 3, 12], [3, 12, 4], [12, 4, 0], [4, 0, 14], [0, 14, 12], [14, 12, 3], [12, 3, 8], [3, 8, 10], [8, 10, 8], [10, 8, 10], [8, 10, 6], [10, 6, 0], [6, 0, 8], [0, 8, 10], [8, 10, 13], [10, 13, 14], [13, 14, 8], [14, 8, 14], [8, 14, 15], [14, 15, 14]]\n",
            "[13, 0, 8, 13, 0, 1, 4, 4, 9, 13, 5, 11, 12, 1, 4, 4, 9, 13, 0, 3, 0, 13, 11, 5, 14, 16, 3, 12, 4, 0, 14, 12, 3, 8, 10, 8, 10, 6, 0, 8, 10, 13, 14, 8, 14, 15, 14, 4]\n"
          ]
        }
      ]
    },
    {
      "cell_type": "code",
      "source": [
        "X = np.array(sequences)\n",
        "y = np.array(labels)\n",
        "\n",
        "X_one_hot = tf.one_hot(X, len(chars))\n",
        "y_one_hot = tf.one_hot(y, len(chars))"
      ],
      "metadata": {
        "id": "-4CQzfFvWGru"
      },
      "execution_count": 6,
      "outputs": []
    },
    {
      "cell_type": "code",
      "source": [
        "model = Sequential()\n",
        "model.add(SimpleRNN(50, input_shape=(seq_length, len(chars)), activation='relu'))\n",
        "model.add(Dense(len(chars), activation='softmax'))"
      ],
      "metadata": {
        "id": "04FyV21aWKza"
      },
      "execution_count": 7,
      "outputs": []
    },
    {
      "cell_type": "code",
      "source": [
        "model.compile(optimizer='adam', loss='categorical_crossentropy', metrics=['accuracy'])"
      ],
      "metadata": {
        "id": "o475I55vWNl9"
      },
      "execution_count": 8,
      "outputs": []
    },
    {
      "cell_type": "code",
      "source": [
        "model.fit(X_one_hot, y_one_hot, epochs=100)"
      ],
      "metadata": {
        "colab": {
          "base_uri": "https://localhost:8080/"
        },
        "id": "6d1W8Y77WUde",
        "outputId": "a80aedc3-c193-42ea-c28a-eb1f5652c66e"
      },
      "execution_count": 9,
      "outputs": [
        {
          "output_type": "stream",
          "name": "stdout",
          "text": [
            "Epoch 1/100\n",
            "2/2 [==============================] - 1s 14ms/step - loss: 2.8684 - accuracy: 0.0625\n",
            "Epoch 2/100\n",
            "2/2 [==============================] - 0s 10ms/step - loss: 2.8434 - accuracy: 0.0625\n",
            "Epoch 3/100\n",
            "2/2 [==============================] - 0s 9ms/step - loss: 2.8211 - accuracy: 0.0833\n",
            "Epoch 4/100\n",
            "2/2 [==============================] - 0s 13ms/step - loss: 2.7998 - accuracy: 0.0833\n",
            "Epoch 5/100\n",
            "2/2 [==============================] - 0s 12ms/step - loss: 2.7791 - accuracy: 0.0833\n",
            "Epoch 6/100\n",
            "2/2 [==============================] - 0s 10ms/step - loss: 2.7598 - accuracy: 0.1250\n",
            "Epoch 7/100\n",
            "2/2 [==============================] - 0s 9ms/step - loss: 2.7405 - accuracy: 0.1458\n",
            "Epoch 8/100\n",
            "2/2 [==============================] - 0s 10ms/step - loss: 2.7207 - accuracy: 0.1458\n",
            "Epoch 9/100\n",
            "2/2 [==============================] - 0s 13ms/step - loss: 2.7019 - accuracy: 0.1875\n",
            "Epoch 10/100\n",
            "2/2 [==============================] - 0s 8ms/step - loss: 2.6830 - accuracy: 0.2083\n",
            "Epoch 11/100\n",
            "2/2 [==============================] - 0s 11ms/step - loss: 2.6638 - accuracy: 0.2500\n",
            "Epoch 12/100\n",
            "2/2 [==============================] - 0s 10ms/step - loss: 2.6435 - accuracy: 0.2708\n",
            "Epoch 13/100\n",
            "2/2 [==============================] - 0s 10ms/step - loss: 2.6239 - accuracy: 0.3125\n",
            "Epoch 14/100\n",
            "2/2 [==============================] - 0s 8ms/step - loss: 2.6053 - accuracy: 0.3125\n",
            "Epoch 15/100\n",
            "2/2 [==============================] - 0s 8ms/step - loss: 2.5838 - accuracy: 0.3333\n",
            "Epoch 16/100\n",
            "2/2 [==============================] - 0s 9ms/step - loss: 2.5637 - accuracy: 0.3542\n",
            "Epoch 17/100\n",
            "2/2 [==============================] - 0s 9ms/step - loss: 2.5427 - accuracy: 0.3542\n",
            "Epoch 18/100\n",
            "2/2 [==============================] - 0s 9ms/step - loss: 2.5214 - accuracy: 0.3750\n",
            "Epoch 19/100\n",
            "2/2 [==============================] - 0s 8ms/step - loss: 2.5004 - accuracy: 0.3750\n",
            "Epoch 20/100\n",
            "2/2 [==============================] - 0s 8ms/step - loss: 2.4777 - accuracy: 0.3750\n",
            "Epoch 21/100\n",
            "2/2 [==============================] - 0s 16ms/step - loss: 2.4544 - accuracy: 0.3750\n",
            "Epoch 22/100\n",
            "2/2 [==============================] - 0s 9ms/step - loss: 2.4309 - accuracy: 0.3958\n",
            "Epoch 23/100\n",
            "2/2 [==============================] - 0s 8ms/step - loss: 2.4068 - accuracy: 0.3958\n",
            "Epoch 24/100\n",
            "2/2 [==============================] - 0s 10ms/step - loss: 2.3818 - accuracy: 0.3958\n",
            "Epoch 25/100\n",
            "2/2 [==============================] - 0s 10ms/step - loss: 2.3568 - accuracy: 0.3958\n",
            "Epoch 26/100\n",
            "2/2 [==============================] - 0s 8ms/step - loss: 2.3316 - accuracy: 0.3958\n",
            "Epoch 27/100\n",
            "2/2 [==============================] - 0s 8ms/step - loss: 2.3042 - accuracy: 0.3958\n",
            "Epoch 28/100\n",
            "2/2 [==============================] - 0s 10ms/step - loss: 2.2772 - accuracy: 0.3542\n",
            "Epoch 29/100\n",
            "2/2 [==============================] - 0s 9ms/step - loss: 2.2503 - accuracy: 0.3542\n",
            "Epoch 30/100\n",
            "2/2 [==============================] - 0s 8ms/step - loss: 2.2205 - accuracy: 0.3542\n",
            "Epoch 31/100\n",
            "2/2 [==============================] - 0s 8ms/step - loss: 2.1931 - accuracy: 0.3542\n",
            "Epoch 32/100\n",
            "2/2 [==============================] - 0s 8ms/step - loss: 2.1637 - accuracy: 0.3542\n",
            "Epoch 33/100\n",
            "2/2 [==============================] - 0s 9ms/step - loss: 2.1345 - accuracy: 0.3542\n",
            "Epoch 34/100\n",
            "2/2 [==============================] - 0s 9ms/step - loss: 2.1045 - accuracy: 0.3542\n",
            "Epoch 35/100\n",
            "2/2 [==============================] - 0s 8ms/step - loss: 2.0765 - accuracy: 0.3542\n",
            "Epoch 36/100\n",
            "2/2 [==============================] - 0s 9ms/step - loss: 2.0452 - accuracy: 0.3958\n",
            "Epoch 37/100\n",
            "2/2 [==============================] - 0s 9ms/step - loss: 2.0151 - accuracy: 0.3958\n",
            "Epoch 38/100\n",
            "2/2 [==============================] - 0s 9ms/step - loss: 1.9829 - accuracy: 0.3958\n",
            "Epoch 39/100\n",
            "2/2 [==============================] - 0s 10ms/step - loss: 1.9514 - accuracy: 0.4375\n",
            "Epoch 40/100\n",
            "2/2 [==============================] - 0s 8ms/step - loss: 1.9197 - accuracy: 0.4375\n",
            "Epoch 41/100\n",
            "2/2 [==============================] - 0s 9ms/step - loss: 1.8875 - accuracy: 0.4375\n",
            "Epoch 42/100\n",
            "2/2 [==============================] - 0s 8ms/step - loss: 1.8570 - accuracy: 0.4583\n",
            "Epoch 43/100\n",
            "2/2 [==============================] - 0s 9ms/step - loss: 1.8243 - accuracy: 0.5000\n",
            "Epoch 44/100\n",
            "2/2 [==============================] - 0s 8ms/step - loss: 1.7905 - accuracy: 0.5208\n",
            "Epoch 45/100\n",
            "2/2 [==============================] - 0s 9ms/step - loss: 1.7591 - accuracy: 0.5625\n",
            "Epoch 46/100\n",
            "2/2 [==============================] - 0s 9ms/step - loss: 1.7258 - accuracy: 0.5417\n",
            "Epoch 47/100\n",
            "2/2 [==============================] - 0s 9ms/step - loss: 1.6931 - accuracy: 0.5417\n",
            "Epoch 48/100\n",
            "2/2 [==============================] - 0s 9ms/step - loss: 1.6629 - accuracy: 0.5208\n",
            "Epoch 49/100\n",
            "2/2 [==============================] - 0s 9ms/step - loss: 1.6306 - accuracy: 0.5833\n",
            "Epoch 50/100\n",
            "2/2 [==============================] - 0s 10ms/step - loss: 1.5979 - accuracy: 0.5833\n",
            "Epoch 51/100\n",
            "2/2 [==============================] - 0s 9ms/step - loss: 1.5664 - accuracy: 0.6042\n",
            "Epoch 52/100\n",
            "2/2 [==============================] - 0s 9ms/step - loss: 1.5357 - accuracy: 0.6458\n",
            "Epoch 53/100\n",
            "2/2 [==============================] - 0s 8ms/step - loss: 1.5026 - accuracy: 0.7083\n",
            "Epoch 54/100\n",
            "2/2 [==============================] - 0s 9ms/step - loss: 1.4696 - accuracy: 0.7292\n",
            "Epoch 55/100\n",
            "2/2 [==============================] - 0s 10ms/step - loss: 1.4385 - accuracy: 0.7292\n",
            "Epoch 56/100\n",
            "2/2 [==============================] - 0s 16ms/step - loss: 1.4092 - accuracy: 0.7292\n",
            "Epoch 57/100\n",
            "2/2 [==============================] - 0s 10ms/step - loss: 1.3770 - accuracy: 0.7292\n",
            "Epoch 58/100\n",
            "2/2 [==============================] - 0s 13ms/step - loss: 1.3477 - accuracy: 0.7292\n",
            "Epoch 59/100\n",
            "2/2 [==============================] - 0s 9ms/step - loss: 1.3167 - accuracy: 0.7292\n",
            "Epoch 60/100\n",
            "2/2 [==============================] - 0s 8ms/step - loss: 1.2876 - accuracy: 0.7292\n",
            "Epoch 61/100\n",
            "2/2 [==============================] - 0s 8ms/step - loss: 1.2570 - accuracy: 0.7292\n",
            "Epoch 62/100\n",
            "2/2 [==============================] - 0s 8ms/step - loss: 1.2272 - accuracy: 0.7083\n",
            "Epoch 63/100\n",
            "2/2 [==============================] - 0s 9ms/step - loss: 1.1984 - accuracy: 0.7500\n",
            "Epoch 64/100\n",
            "2/2 [==============================] - 0s 8ms/step - loss: 1.1689 - accuracy: 0.7500\n",
            "Epoch 65/100\n",
            "2/2 [==============================] - 0s 9ms/step - loss: 1.1410 - accuracy: 0.7500\n",
            "Epoch 66/100\n",
            "2/2 [==============================] - 0s 9ms/step - loss: 1.1153 - accuracy: 0.7500\n",
            "Epoch 67/100\n",
            "2/2 [==============================] - 0s 10ms/step - loss: 1.0873 - accuracy: 0.7500\n",
            "Epoch 68/100\n",
            "2/2 [==============================] - 0s 10ms/step - loss: 1.0593 - accuracy: 0.7708\n",
            "Epoch 69/100\n",
            "2/2 [==============================] - 0s 9ms/step - loss: 1.0345 - accuracy: 0.7708\n",
            "Epoch 70/100\n",
            "2/2 [==============================] - 0s 10ms/step - loss: 1.0071 - accuracy: 0.7708\n",
            "Epoch 71/100\n",
            "2/2 [==============================] - 0s 9ms/step - loss: 0.9818 - accuracy: 0.7708\n",
            "Epoch 72/100\n",
            "2/2 [==============================] - 0s 9ms/step - loss: 0.9569 - accuracy: 0.7708\n",
            "Epoch 73/100\n",
            "2/2 [==============================] - 0s 8ms/step - loss: 0.9325 - accuracy: 0.7708\n",
            "Epoch 74/100\n",
            "2/2 [==============================] - 0s 9ms/step - loss: 0.9090 - accuracy: 0.7917\n",
            "Epoch 75/100\n",
            "2/2 [==============================] - 0s 9ms/step - loss: 0.8849 - accuracy: 0.8125\n",
            "Epoch 76/100\n",
            "2/2 [==============================] - 0s 8ms/step - loss: 0.8623 - accuracy: 0.8333\n",
            "Epoch 77/100\n",
            "2/2 [==============================] - 0s 9ms/step - loss: 0.8386 - accuracy: 0.8333\n",
            "Epoch 78/100\n",
            "2/2 [==============================] - 0s 10ms/step - loss: 0.8178 - accuracy: 0.8542\n",
            "Epoch 79/100\n",
            "2/2 [==============================] - 0s 10ms/step - loss: 0.7952 - accuracy: 0.8542\n",
            "Epoch 80/100\n",
            "2/2 [==============================] - 0s 10ms/step - loss: 0.7750 - accuracy: 0.8542\n",
            "Epoch 81/100\n",
            "2/2 [==============================] - 0s 9ms/step - loss: 0.7538 - accuracy: 0.8750\n",
            "Epoch 82/100\n",
            "2/2 [==============================] - 0s 9ms/step - loss: 0.7353 - accuracy: 0.8750\n",
            "Epoch 83/100\n",
            "2/2 [==============================] - 0s 8ms/step - loss: 0.7147 - accuracy: 0.8958\n",
            "Epoch 84/100\n",
            "2/2 [==============================] - 0s 9ms/step - loss: 0.6971 - accuracy: 0.8958\n",
            "Epoch 85/100\n",
            "2/2 [==============================] - 0s 8ms/step - loss: 0.6789 - accuracy: 0.9167\n",
            "Epoch 86/100\n",
            "2/2 [==============================] - 0s 9ms/step - loss: 0.6606 - accuracy: 0.9167\n",
            "Epoch 87/100\n",
            "2/2 [==============================] - 0s 8ms/step - loss: 0.6456 - accuracy: 0.9167\n",
            "Epoch 88/100\n",
            "2/2 [==============================] - 0s 9ms/step - loss: 0.6270 - accuracy: 0.9375\n",
            "Epoch 89/100\n",
            "2/2 [==============================] - 0s 9ms/step - loss: 0.6109 - accuracy: 0.9167\n",
            "Epoch 90/100\n",
            "2/2 [==============================] - 0s 10ms/step - loss: 0.5955 - accuracy: 0.9167\n",
            "Epoch 91/100\n",
            "2/2 [==============================] - 0s 9ms/step - loss: 0.5799 - accuracy: 0.9167\n",
            "Epoch 92/100\n",
            "2/2 [==============================] - 0s 8ms/step - loss: 0.5660 - accuracy: 0.9167\n",
            "Epoch 93/100\n",
            "2/2 [==============================] - 0s 9ms/step - loss: 0.5505 - accuracy: 0.9167\n",
            "Epoch 94/100\n",
            "2/2 [==============================] - 0s 8ms/step - loss: 0.5368 - accuracy: 0.9167\n",
            "Epoch 95/100\n",
            "2/2 [==============================] - 0s 9ms/step - loss: 0.5232 - accuracy: 0.9167\n",
            "Epoch 96/100\n",
            "2/2 [==============================] - 0s 9ms/step - loss: 0.5103 - accuracy: 0.9167\n",
            "Epoch 97/100\n",
            "2/2 [==============================] - 0s 11ms/step - loss: 0.4968 - accuracy: 0.9167\n",
            "Epoch 98/100\n",
            "2/2 [==============================] - 0s 10ms/step - loss: 0.4854 - accuracy: 0.9375\n",
            "Epoch 99/100\n",
            "2/2 [==============================] - 0s 9ms/step - loss: 0.4713 - accuracy: 0.9375\n",
            "Epoch 100/100\n",
            "2/2 [==============================] - 0s 12ms/step - loss: 0.4592 - accuracy: 0.9375\n"
          ]
        },
        {
          "output_type": "execute_result",
          "data": {
            "text/plain": [
              "<keras.src.callbacks.History at 0x7908102274f0>"
            ]
          },
          "metadata": {},
          "execution_count": 9
        }
      ]
    },
    {
      "cell_type": "code",
      "source": [
        "start_seq = \"This is G\"\n",
        "generated_text = start_seq\n",
        "\n",
        "for i in range(50):\n",
        "\tx = np.array([[char_to_index[char] for char in generated_text[-seq_length:]]])\n",
        "\tx_one_hot = tf.one_hot(x, len(chars))\n",
        "\tprediction = model.predict(x_one_hot)\n",
        "\tnext_index = np.argmax(prediction)\n",
        "\tnext_char = index_to_char[next_index]\n",
        "\tgenerated_text += next_char\n",
        "\n",
        "print(\"Generated Text:\")\n",
        "print(generated_text)"
      ],
      "metadata": {
        "colab": {
          "base_uri": "https://localhost:8080/"
        },
        "id": "2GI4pygMWut1",
        "outputId": "aa0ecc4c-61ad-43a2-e832-d4746a82b979"
      },
      "execution_count": 10,
      "outputs": [
        {
          "output_type": "stream",
          "name": "stdout",
          "text": [
            "1/1 [==============================] - 0s 415ms/step\n",
            "1/1 [==============================] - 0s 44ms/step\n",
            "1/1 [==============================] - 0s 68ms/step\n",
            "1/1 [==============================] - 0s 40ms/step\n",
            "1/1 [==============================] - 0s 43ms/step\n",
            "1/1 [==============================] - 0s 72ms/step\n",
            "1/1 [==============================] - 0s 67ms/step\n",
            "1/1 [==============================] - 0s 22ms/step\n",
            "1/1 [==============================] - 0s 21ms/step\n",
            "1/1 [==============================] - 0s 21ms/step\n",
            "1/1 [==============================] - 0s 23ms/step\n",
            "1/1 [==============================] - 0s 21ms/step\n",
            "1/1 [==============================] - 0s 21ms/step\n",
            "1/1 [==============================] - 0s 27ms/step\n",
            "1/1 [==============================] - 0s 21ms/step\n",
            "1/1 [==============================] - 0s 23ms/step\n",
            "1/1 [==============================] - 0s 22ms/step\n",
            "1/1 [==============================] - 0s 25ms/step\n",
            "1/1 [==============================] - 0s 23ms/step\n",
            "1/1 [==============================] - 0s 22ms/step\n",
            "1/1 [==============================] - 0s 20ms/step\n",
            "1/1 [==============================] - 0s 24ms/step\n",
            "1/1 [==============================] - 0s 20ms/step\n",
            "1/1 [==============================] - 0s 31ms/step\n",
            "1/1 [==============================] - 0s 21ms/step\n",
            "1/1 [==============================] - 0s 24ms/step\n",
            "1/1 [==============================] - 0s 22ms/step\n",
            "1/1 [==============================] - 0s 22ms/step\n",
            "1/1 [==============================] - 0s 21ms/step\n",
            "1/1 [==============================] - 0s 21ms/step\n",
            "1/1 [==============================] - 0s 27ms/step\n",
            "1/1 [==============================] - 0s 21ms/step\n",
            "1/1 [==============================] - 0s 22ms/step\n",
            "1/1 [==============================] - 0s 23ms/step\n",
            "1/1 [==============================] - 0s 22ms/step\n",
            "1/1 [==============================] - 0s 21ms/step\n",
            "1/1 [==============================] - 0s 21ms/step\n",
            "1/1 [==============================] - 0s 20ms/step\n",
            "1/1 [==============================] - 0s 20ms/step\n",
            "1/1 [==============================] - 0s 21ms/step\n",
            "1/1 [==============================] - 0s 24ms/step\n",
            "1/1 [==============================] - 0s 24ms/step\n",
            "1/1 [==============================] - 0s 22ms/step\n",
            "1/1 [==============================] - 0s 21ms/step\n",
            "1/1 [==============================] - 0s 20ms/step\n",
            "1/1 [==============================] - 0s 21ms/step\n",
            "1/1 [==============================] - 0s 21ms/step\n",
            "1/1 [==============================] - 0s 24ms/step\n",
            "1/1 [==============================] - 0s 26ms/step\n",
            "1/1 [==============================] - 0s 23ms/step\n",
            "Generated Text:\n",
            "This is Geeks a software training ins is Geeks a software t\n"
          ]
        }
      ]
    }
  ]
}