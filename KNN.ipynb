{
  "nbformat": 4,
  "nbformat_minor": 0,
  "metadata": {
    "colab": {
      "provenance": [],
      "authorship_tag": "ABX9TyOiq5evwZGNviqvKOyHjW4t",
      "include_colab_link": true
    },
    "kernelspec": {
      "name": "python3",
      "display_name": "Python 3"
    },
    "language_info": {
      "name": "python"
    }
  },
  "cells": [
    {
      "cell_type": "markdown",
      "metadata": {
        "id": "view-in-github",
        "colab_type": "text"
      },
      "source": [
        "<a href=\"https://colab.research.google.com/github/zugzwang03/Machine-Learning-Materials/blob/main/KNN.ipynb\" target=\"_parent\"><img src=\"https://colab.research.google.com/assets/colab-badge.svg\" alt=\"Open In Colab\"/></a>"
      ]
    },
    {
      "cell_type": "code",
      "execution_count": 1,
      "metadata": {
        "colab": {
          "base_uri": "https://localhost:8080/"
        },
        "id": "AMwG7_kF2TZ6",
        "outputId": "751d6af6-b267-4d99-bd06-86f2a4ef2dd1"
      },
      "outputs": [
        {
          "output_type": "stream",
          "name": "stdout",
          "text": [
            "The value classified to unknown point is: 0\n"
          ]
        }
      ],
      "source": [
        "import math\n",
        "\n",
        "def classifyAPoint(points,p,k=3):\n",
        "\t'''\n",
        "\tThis function finds the classification of p using\n",
        "\tk nearest neighbor algorithm. It assumes only two\n",
        "\tgroups and returns 0 if p belongs to group 0, else\n",
        "\t1 (belongs to group 1).\n",
        "\n",
        "\tParameters -\n",
        "\t\tpoints: Dictionary of training points having two keys - 0 and 1\n",
        "\t\t\t\tEach key have a list of training data points belong to that\n",
        "\n",
        "\t\tp : A tuple, test data point of the form (x,y)\n",
        "\n",
        "\t\tk : number of nearest neighbour to consider, default is 3\n",
        "\t'''\n",
        "\n",
        "\tdistance=[]\n",
        "\tfor group in points:\n",
        "\t\tfor feature in points[group]:\n",
        "\n",
        "\t\t\t#calculate the euclidean distance of p from training points\n",
        "\t\t\teuclidean_distance = math.sqrt((feature[0]-p[0])**2 +(feature[1]-p[1])**2)\n",
        "\n",
        "\t\t\t# Add a tuple of form (distance,group) in the distance list\n",
        "\t\t\tdistance.append((euclidean_distance,group))\n",
        "\n",
        "\t# sort the distance list in ascending order\n",
        "\t# and select first k distances\n",
        "\tdistance = sorted(distance)[:k]\n",
        "\n",
        "\tfreq1 = 0 #frequency of group 0\n",
        "\tfreq2 = 0 #frequency og group 1\n",
        "\n",
        "\tfor d in distance:\n",
        "\t\tif d[1] == 0:\n",
        "\t\t\tfreq1 += 1\n",
        "\t\telif d[1] == 1:\n",
        "\t\t\tfreq2 += 1\n",
        "\n",
        "\treturn 0 if freq1>freq2 else 1\n",
        "\n",
        "# driver function\n",
        "def main():\n",
        "\n",
        "\t# Dictionary of training points having two keys - 0 and 1\n",
        "\t# key 0 have points belong to class 0\n",
        "\t# key 1 have points belong to class 1\n",
        "\n",
        "\tpoints = {0:[(1,12),(2,5),(3,6),(3,10),(3.5,8),(2,11),(2,9),(1,7)],\n",
        "\t\t\t1:[(5,3),(3,2),(1.5,9),(7,2),(6,1),(3.8,1),(5.6,4),(4,2),(2,5)]}\n",
        "\n",
        "\t# testing point p(x,y)\n",
        "\tp = (2.5,7)\n",
        "\n",
        "\t# Number of neighbours\n",
        "\tk = 3\n",
        "\n",
        "\tprint(\"The value classified to unknown point is: {}\".\\\n",
        "\t\tformat(classifyAPoint(points,p,k)))\n",
        "\n",
        "if __name__ == '__main__':\n",
        "\tmain()"
      ]
    }
  ]
}